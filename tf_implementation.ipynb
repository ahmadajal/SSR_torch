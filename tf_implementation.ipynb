{
 "cells": [
  {
   "cell_type": "code",
   "execution_count": 1,
   "metadata": {},
   "outputs": [
    {
     "name": "stdout",
     "output_type": "stream",
     "text": [
      "WARNING:tensorflow:From /home/ubuntu/anaconda3/envs/tensorflow_p37/gpu_cuda11.0/lib/python3.7/site-packages/tensorflow_core/__init__.py:1473: The name tf.estimator.inputs is deprecated. Please use tf.compat.v1.estimator.inputs instead.\n",
      "\n"
     ]
    },
    {
     "name": "stderr",
     "output_type": "stream",
     "text": [
      "Using TensorFlow backend.\n"
     ]
    }
   ],
   "source": [
    "import tensorflow as tf\n",
    "import keras\n",
    "import numpy as np\n",
    "import keras.backend as K"
   ]
  },
  {
   "cell_type": "code",
   "execution_count": 2,
   "metadata": {},
   "outputs": [],
   "source": [
    "def get_session(number=None):\n",
    "    config = tf.ConfigProto()\n",
    "    # config = tf.compat.v1.ConfigProto()\n",
    "    config.gpu_options.allow_growth = True\n",
    "    return tf.Session(config=config)\n",
    "    # return tf.compat.v1.Session(config=config)\n",
    "\n",
    "\n",
    "# %%\n",
    "sess = get_session()\n",
    "K.set_session(sess)"
   ]
  },
  {
   "cell_type": "code",
   "execution_count": 3,
   "metadata": {},
   "outputs": [
    {
     "data": {
      "text/plain": [
       "array([[[[4.17022005e-01, 7.20324493e-01],\n",
       "         [1.14374817e-04, 3.02332573e-01]],\n",
       "\n",
       "        [[1.46755891e-01, 9.23385948e-02],\n",
       "         [1.86260211e-01, 3.45560727e-01]],\n",
       "\n",
       "        [[3.96767474e-01, 5.38816734e-01],\n",
       "         [4.19194514e-01, 6.85219500e-01]]]])"
      ]
     },
     "execution_count": 3,
     "metadata": {},
     "output_type": "execute_result"
    }
   ],
   "source": [
    "np.random.seed(1)\n",
    "a = np.random.random(size=12)\n",
    "a = a.reshape((1,3,2,2))\n",
    "a"
   ]
  },
  {
   "cell_type": "code",
   "execution_count": 4,
   "metadata": {},
   "outputs": [],
   "source": [
    "w = tf.convert_to_tensor(a)"
   ]
  },
  {
   "cell_type": "code",
   "execution_count": 9,
   "metadata": {},
   "outputs": [],
   "source": [
    "ws=[]\n",
    "for c in range(10):\n",
    "    w = tf.convert_to_tensor(a)\n",
    "    w = tf.reduce_mean(w, axis=-1)\n",
    "    w = tf.keras.backend.batch_flatten(w)\n",
    "    w = tf.expand_dims(w, -1)\n",
    "    ws.append(w)\n",
    "res = tf.concat(ws, axis=-1)"
   ]
  },
  {
   "cell_type": "code",
   "execution_count": 10,
   "metadata": {},
   "outputs": [
    {
     "data": {
      "text/plain": [
       "array([[[0.56867325, 0.56867325, 0.56867325, 0.56867325, 0.56867325,\n",
       "         0.56867325, 0.56867325, 0.56867325, 0.56867325, 0.56867325],\n",
       "        [0.15122347, 0.15122347, 0.15122347, 0.15122347, 0.15122347,\n",
       "         0.15122347, 0.15122347, 0.15122347, 0.15122347, 0.15122347],\n",
       "        [0.11954724, 0.11954724, 0.11954724, 0.11954724, 0.11954724,\n",
       "         0.11954724, 0.11954724, 0.11954724, 0.11954724, 0.11954724],\n",
       "        [0.26591047, 0.26591047, 0.26591047, 0.26591047, 0.26591047,\n",
       "         0.26591047, 0.26591047, 0.26591047, 0.26591047, 0.26591047],\n",
       "        [0.4677921 , 0.4677921 , 0.4677921 , 0.4677921 , 0.4677921 ,\n",
       "         0.4677921 , 0.4677921 , 0.4677921 , 0.4677921 , 0.4677921 ],\n",
       "        [0.55220701, 0.55220701, 0.55220701, 0.55220701, 0.55220701,\n",
       "         0.55220701, 0.55220701, 0.55220701, 0.55220701, 0.55220701]]])"
      ]
     },
     "execution_count": 10,
     "metadata": {},
     "output_type": "execute_result"
    }
   ],
   "source": [
    "res.eval(session=sess)"
   ]
  },
  {
   "cell_type": "code",
   "execution_count": 8,
   "metadata": {},
   "outputs": [
    {
     "data": {
      "text/plain": [
       "TensorShape([Dimension(1), Dimension(6), Dimension(10)])"
      ]
     },
     "execution_count": 8,
     "metadata": {},
     "output_type": "execute_result"
    }
   ],
   "source": [
    "res.shape"
   ]
  },
  {
   "cell_type": "code",
   "execution_count": 3,
   "metadata": {},
   "outputs": [],
   "source": [
    "np.random.seed(1)\n",
    "a = np.random.random(size=10)\n",
    "a = a / np.sum(a)"
   ]
  },
  {
   "cell_type": "code",
   "execution_count": 4,
   "metadata": {},
   "outputs": [],
   "source": [
    "np.random.seed(1)\n",
    "b = np.random.random(size=(20,10))"
   ]
  },
  {
   "cell_type": "code",
   "execution_count": 5,
   "metadata": {},
   "outputs": [],
   "source": [
    "y_pred = tf.expand_dims(tf.convert_to_tensor(a), 0)\n",
    "W = tf.expand_dims(tf.convert_to_tensor(b), 0)*5"
   ]
  },
  {
   "cell_type": "code",
   "execution_count": 6,
   "metadata": {},
   "outputs": [],
   "source": [
    "scale=1.0\n",
    "EPS = 1e-12"
   ]
  },
  {
   "cell_type": "code",
   "execution_count": 7,
   "metadata": {},
   "outputs": [
    {
     "name": "stdout",
     "output_type": "stream",
     "text": [
      "Tensor(\"mul_3:0\", shape=(), dtype=float64)\n"
     ]
    }
   ],
   "source": [
    "A = tf.matrix_diag(y_pred)  # (B, C, C)\n",
    "p = tf.expand_dims(y_pred, 2)  # (B, C, 1)\n",
    "A = A - tf.matmul(p, tf.matrix_transpose(p))  # A-pp^T\n",
    "A = A + tf.eye(int(A.shape[1]), int(A.shape[2]), batch_shape=[1], dtype=tf.float64) * EPS\n",
    "e, U = tf.linalg.eigh(A)\n",
    "e = tf.clip_by_value(e, clip_value_min=1e-20, clip_value_max=np.inf)\n",
    "Sigma = tf.matrix_diag(tf.sqrt(e))\n",
    "L = tf.matmul(U, Sigma)\n",
    "B = tf.matmul(W, L)  # (B, K, C) x (B, C, C) --> (B, K, C)\n",
    "B_T = tf.matrix_transpose(B)  # (B, C, K)\n",
    "C = tf.matmul(B_T, B)  # (B, C, C)\n",
    "C = C + tf.eye(int(C.shape[1]), int(C.shape[2]), batch_shape=[1], dtype=tf.float64) * EPS\n",
    "H_e, _ = tf.linalg.eigh(C)\n",
    "ave_beta = tf.reduce_mean(\n",
    "    H_e[:, -1]\n",
    ")  # Eigenvalues. Shape is [..., N]. Sorted in non-decreasing order.\n",
    "print(ave_beta * scale)"
   ]
  },
  {
   "cell_type": "code",
   "execution_count": 8,
   "metadata": {},
   "outputs": [
    {
     "data": {
      "text/plain": [
       "12.469716966787345"
      ]
     },
     "execution_count": 8,
     "metadata": {},
     "output_type": "execute_result"
    }
   ],
   "source": [
    "ave_beta.eval(session=sess)"
   ]
  },
  {
   "cell_type": "code",
   "execution_count": 12,
   "metadata": {},
   "outputs": [
    {
     "data": {
      "text/plain": [
       "array([[9.99974053e-13, 4.03892524e-05, 3.15778377e-02, 4.98125842e-02,\n",
       "        6.54927495e-02, 1.00421858e-01, 1.15814323e-01, 1.29397456e-01,\n",
       "        1.56595191e-01, 2.07795432e-01]])"
      ]
     },
     "execution_count": 12,
     "metadata": {},
     "output_type": "execute_result"
    }
   ],
   "source": [
    "e.eval(session=sess)"
   ]
  },
  {
   "cell_type": "code",
   "execution_count": 14,
   "metadata": {},
   "outputs": [
    {
     "data": {
      "text/plain": [
       "array([[[ 3.16227766e-01, -1.05385725e-01, -9.32920391e-02,\n",
       "          9.65895487e-02, -1.77445340e-01,  1.58021695e-01,\n",
       "         -3.26478403e-01,  7.32668908e-01, -3.87161457e-01,\n",
       "          1.45318026e-01],\n",
       "        [ 3.16227766e-01, -1.05372201e-01, -8.24359955e-02,\n",
       "          7.70544871e-02, -1.25733863e-01,  6.82200116e-02,\n",
       "         -8.33936546e-02,  4.00012458e-02,  2.22315053e-01,\n",
       "         -8.93152872e-01],\n",
       "        [ 3.16227766e-01,  9.48683292e-01,  8.19048034e-05,\n",
       "         -4.40300902e-05,  4.98528829e-05, -1.38682129e-05,\n",
       "          1.29385416e-05, -4.88762216e-06, -1.63126334e-05,\n",
       "          1.44359768e-05],\n",
       "        [ 3.16227766e-01, -1.05397913e-01, -1.05850561e-01,\n",
       "          1.25181831e-01, -2.81897174e-01, -8.49845149e-01,\n",
       "          2.00770805e-01, -5.01806453e-02, -1.11577232e-01,\n",
       "          7.09729625e-02],\n",
       "        [ 3.16227766e-01, -1.05444917e-01, -2.20014954e-01,\n",
       "         -8.87523841e-01,  2.22139812e-01, -3.32164829e-02,\n",
       "          2.77879799e-02, -9.80348874e-03, -2.98034888e-02,\n",
       "          2.38801646e-02],\n",
       "        [ 3.16227766e-01, -1.05498799e-01,  9.35501548e-01,\n",
       "         -8.64628430e-02,  7.28877478e-02, -1.58138193e-02,\n",
       "          1.39868207e-02, -5.10200746e-03, -1.62034539e-02,\n",
       "          1.35690565e-02],\n",
       "        [ 3.16227766e-01, -1.05425539e-01, -1.52308876e-01,\n",
       "          3.80207079e-01,  8.44469902e-01, -5.49987087e-02,\n",
       "          4.30897318e-02, -1.46679349e-02, -4.27025049e-02,\n",
       "          3.28692725e-02],\n",
       "        [ 3.16227766e-01, -1.05392369e-01, -9.97431797e-02,\n",
       "          1.10326678e-01, -2.22360237e-01,  4.47025556e-01,\n",
       "          7.56428083e-01, -9.76302995e-02, -1.64999578e-01,\n",
       "          9.24979327e-02],\n",
       "        [ 3.16227766e-01, -1.05387365e-01, -9.48056960e-02,\n",
       "          9.96525238e-02, -1.86757514e-01,  1.88029728e-01,\n",
       "         -5.04913330e-01, -6.66442182e-01, -2.90580268e-01,\n",
       "          1.27364301e-01],\n",
       "        [ 3.16227766e-01, -1.05378465e-01, -8.71321519e-02,\n",
       "          8.50185657e-02, -1.45353186e-01,  9.25910389e-02,\n",
       "         -1.27290971e-01,  7.11612921e-02,  8.20729241e-01,\n",
       "          3.86666721e-01]]])"
      ]
     },
     "execution_count": 14,
     "metadata": {},
     "output_type": "execute_result"
    }
   ],
   "source": [
    "U.eval(session=sess)"
   ]
  },
  {
   "cell_type": "code",
   "execution_count": null,
   "metadata": {},
   "outputs": [],
   "source": []
  }
 ],
 "metadata": {
  "kernelspec": {
   "display_name": "Environment (conda_tensorflow_p37)",
   "language": "python",
   "name": "conda_tensorflow_p37"
  },
  "language_info": {
   "codemirror_mode": {
    "name": "ipython",
    "version": 3
   },
   "file_extension": ".py",
   "mimetype": "text/x-python",
   "name": "python",
   "nbconvert_exporter": "python",
   "pygments_lexer": "ipython3",
   "version": "3.7.6"
  }
 },
 "nbformat": 4,
 "nbformat_minor": 4
}
