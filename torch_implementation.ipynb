{
 "cells": [
  {
   "cell_type": "code",
   "execution_count": 7,
   "metadata": {},
   "outputs": [],
   "source": [
    "import torch\n",
    "import numpy as np"
   ]
  },
  {
   "cell_type": "code",
   "execution_count": 8,
   "metadata": {},
   "outputs": [
    {
     "data": {
      "text/plain": [
       "array([[[[4.17022005e-01, 7.20324493e-01],\n",
       "         [1.14374817e-04, 3.02332573e-01]],\n",
       "\n",
       "        [[1.46755891e-01, 9.23385948e-02],\n",
       "         [1.86260211e-01, 3.45560727e-01]],\n",
       "\n",
       "        [[3.96767474e-01, 5.38816734e-01],\n",
       "         [4.19194514e-01, 6.85219500e-01]]]])"
      ]
     },
     "execution_count": 8,
     "metadata": {},
     "output_type": "execute_result"
    }
   ],
   "source": [
    "np.random.seed(1)\n",
    "a = np.random.random(size=12)\n",
    "a = a.reshape((1,3,2,2))\n",
    "a"
   ]
  },
  {
   "cell_type": "code",
   "execution_count": 15,
   "metadata": {},
   "outputs": [],
   "source": [
    "w = torch.tensor(a)"
   ]
  },
  {
   "cell_type": "code",
   "execution_count": 17,
   "metadata": {},
   "outputs": [],
   "source": [
    "ws=[]\n",
    "for c in range(10):\n",
    "    w = torch.tensor(a)\n",
    "    w = torch.mean(w, dim=-1)\n",
    "    w = w.flatten(start_dim=1)\n",
    "#     w = w.unsqueeze(-1)\n",
    "    ws.append(w)\n",
    "res = torch.stack(ws, dim=-1)"
   ]
  },
  {
   "cell_type": "code",
   "execution_count": 19,
   "metadata": {},
   "outputs": [
    {
     "data": {
      "text/plain": [
       "torch.Size([1, 6, 10])"
      ]
     },
     "execution_count": 19,
     "metadata": {},
     "output_type": "execute_result"
    }
   ],
   "source": [
    "res.size()"
   ]
  },
  {
   "cell_type": "code",
   "execution_count": 2,
   "metadata": {},
   "outputs": [],
   "source": [
    "np.random.seed(1)\n",
    "a = np.random.random(size=10)\n",
    "a = a / np.sum(a)"
   ]
  },
  {
   "cell_type": "code",
   "execution_count": 3,
   "metadata": {},
   "outputs": [],
   "source": [
    "np.random.seed(1)\n",
    "b = np.random.random(size=(20,10))"
   ]
  },
  {
   "cell_type": "code",
   "execution_count": 4,
   "metadata": {},
   "outputs": [],
   "source": [
    "y_pred = torch.tensor(a).unsqueeze(0)\n",
    "W = torch.tensor(b).unsqueeze(0)*5"
   ]
  },
  {
   "cell_type": "code",
   "execution_count": 5,
   "metadata": {},
   "outputs": [],
   "source": [
    "scale=1.0\n",
    "EPS = 1e-12"
   ]
  },
  {
   "cell_type": "code",
   "execution_count": 6,
   "metadata": {},
   "outputs": [
    {
     "name": "stdout",
     "output_type": "stream",
     "text": [
      "tensor(12.4697, dtype=torch.float64)\n"
     ]
    }
   ],
   "source": [
    "A = torch.diag_embed(y_pred)  # (B, cl, cl)\n",
    "p = torch.unsqueeze(y_pred, 2) # (B, cl, 1)\n",
    "A = A - torch.matmul(p, torch.transpose(p, 1, 2)) # A-pp^T\n",
    "A = A + torch.eye(int(A.size()[1]), int(A.size()[2])).unsqueeze(0) * EPS\n",
    "e, U = torch.linalg.eigh(A)\n",
    "e = torch.clamp(e, min=1e-20, max=np.inf)\n",
    "Sigma = torch.diag_embed(torch.sqrt(e))\n",
    "L = torch.matmul(U, Sigma)\n",
    "B = torch.matmul(W, L)  # (B, K, C) x (B, C, C) --> (B, K, C)\n",
    "B_T = torch.transpose(B, 1, 2) # (B, C, K)\n",
    "C = torch.matmul(B_T, B) # (B, C, C)\n",
    "C = C + torch.eye(int(C.size()[1]), int(C.size()[2])).unsqueeze(0) * EPS\n",
    "H_e, _ = torch.linalg.eigh(C)\n",
    "avg_beta = torch.mean(H_e[:, -1]) # Eigenvalues. Shape is [..., N]. Sorted in non-decreasing order.\n",
    "print(avg_beta * scale)"
   ]
  },
  {
   "cell_type": "code",
   "execution_count": 9,
   "metadata": {},
   "outputs": [
    {
     "data": {
      "text/plain": [
       "tensor([[2.0780e-01, 1.5660e-01, 1.2940e-01, 1.1581e-01, 1.0042e-01, 6.5493e-02,\n",
       "         4.9813e-02, 3.1578e-02, 9.9999e-13, 4.0389e-05]], dtype=torch.float64)"
      ]
     },
     "execution_count": 9,
     "metadata": {},
     "output_type": "execute_result"
    }
   ],
   "source": [
    "e"
   ]
  },
  {
   "cell_type": "code",
   "execution_count": 10,
   "metadata": {},
   "outputs": [
    {
     "data": {
      "text/plain": [
       "tensor([[[-1.4532e-01+0.j,  3.8716e-01+0.j,  7.3267e-01+0.j,  3.2648e-01+0.j,\n",
       "          -1.5802e-01+0.j,  1.7745e-01+0.j,  9.6590e-02+0.j, -9.3292e-02+0.j,\n",
       "           3.1623e-01+0.j, -1.0539e-01+0.j],\n",
       "         [ 8.9315e-01+0.j, -2.2232e-01+0.j,  4.0001e-02+0.j,  8.3394e-02+0.j,\n",
       "          -6.8220e-02+0.j,  1.2573e-01+0.j,  7.7054e-02+0.j, -8.2436e-02+0.j,\n",
       "           3.1623e-01+0.j, -1.0537e-01+0.j],\n",
       "         [-1.4436e-05+0.j,  1.6313e-05+0.j, -4.8876e-06+0.j, -1.2939e-05+0.j,\n",
       "           1.3868e-05+0.j, -4.9853e-05+0.j, -4.4030e-05+0.j,  8.1905e-05+0.j,\n",
       "           3.1623e-01+0.j,  9.4868e-01+0.j],\n",
       "         [-7.0973e-02+0.j,  1.1158e-01+0.j, -5.0181e-02+0.j, -2.0077e-01+0.j,\n",
       "           8.4985e-01+0.j,  2.8190e-01+0.j,  1.2518e-01+0.j, -1.0585e-01+0.j,\n",
       "           3.1623e-01+0.j, -1.0540e-01+0.j],\n",
       "         [-2.3880e-02+0.j,  2.9803e-02+0.j, -9.8035e-03+0.j, -2.7788e-02+0.j,\n",
       "           3.3216e-02+0.j, -2.2214e-01+0.j, -8.8752e-01+0.j, -2.2001e-01+0.j,\n",
       "           3.1623e-01+0.j, -1.0544e-01+0.j],\n",
       "         [-1.3569e-02+0.j,  1.6203e-02+0.j, -5.1020e-03+0.j, -1.3987e-02+0.j,\n",
       "           1.5814e-02+0.j, -7.2888e-02+0.j, -8.6463e-02+0.j,  9.3550e-01+0.j,\n",
       "           3.1623e-01+0.j, -1.0550e-01+0.j],\n",
       "         [-3.2869e-02+0.j,  4.2703e-02+0.j, -1.4668e-02+0.j, -4.3090e-02+0.j,\n",
       "           5.4999e-02+0.j, -8.4447e-01+0.j,  3.8021e-01+0.j, -1.5231e-01+0.j,\n",
       "           3.1623e-01+0.j, -1.0543e-01+0.j],\n",
       "         [-9.2498e-02+0.j,  1.6500e-01+0.j, -9.7630e-02+0.j, -7.5643e-01+0.j,\n",
       "          -4.4703e-01+0.j,  2.2236e-01+0.j,  1.1033e-01+0.j, -9.9743e-02+0.j,\n",
       "           3.1623e-01+0.j, -1.0539e-01+0.j],\n",
       "         [-1.2736e-01+0.j,  2.9058e-01+0.j, -6.6644e-01+0.j,  5.0491e-01+0.j,\n",
       "          -1.8803e-01+0.j,  1.8676e-01+0.j,  9.9653e-02+0.j, -9.4806e-02+0.j,\n",
       "           3.1623e-01+0.j, -1.0539e-01+0.j],\n",
       "         [-3.8667e-01+0.j, -8.2073e-01+0.j,  7.1161e-02+0.j,  1.2729e-01+0.j,\n",
       "          -9.2591e-02+0.j,  1.4535e-01+0.j,  8.5019e-02+0.j, -8.7132e-02+0.j,\n",
       "           3.1623e-01+0.j, -1.0538e-01+0.j]]], dtype=torch.complex128)"
      ]
     },
     "execution_count": 10,
     "metadata": {},
     "output_type": "execute_result"
    }
   ],
   "source": [
    "U"
   ]
  },
  {
   "cell_type": "code",
   "execution_count": 15,
   "metadata": {},
   "outputs": [],
   "source": [
    "x = torch.tensor([1,2,3,4], dtype=torch.float)"
   ]
  },
  {
   "cell_type": "code",
   "execution_count": 16,
   "metadata": {},
   "outputs": [
    {
     "data": {
      "text/plain": [
       "tensor([[1.],\n",
       "        [2.],\n",
       "        [3.],\n",
       "        [4.]])"
      ]
     },
     "execution_count": 16,
     "metadata": {},
     "output_type": "execute_result"
    }
   ],
   "source": [
    "x = x.view((-1, 1))\n",
    "x"
   ]
  },
  {
   "cell_type": "code",
   "execution_count": 17,
   "metadata": {},
   "outputs": [
    {
     "data": {
      "text/plain": [
       "(tensor([1.]), tensor([2.]), tensor([3.]), tensor([4.]))"
      ]
     },
     "execution_count": 17,
     "metadata": {},
     "output_type": "execute_result"
    }
   ],
   "source": [
    "torch.unbind(x)"
   ]
  },
  {
   "cell_type": "code",
   "execution_count": null,
   "metadata": {},
   "outputs": [],
   "source": []
  }
 ],
 "metadata": {
  "kernelspec": {
   "display_name": "Environment (conda_pytorch19_p37)",
   "language": "python",
   "name": "conda_pytorch19_p37"
  },
  "language_info": {
   "codemirror_mode": {
    "name": "ipython",
    "version": 3
   },
   "file_extension": ".py",
   "mimetype": "text/x-python",
   "name": "python",
   "nbconvert_exporter": "python",
   "pygments_lexer": "ipython3",
   "version": "3.7.6"
  }
 },
 "nbformat": 4,
 "nbformat_minor": 4
}
